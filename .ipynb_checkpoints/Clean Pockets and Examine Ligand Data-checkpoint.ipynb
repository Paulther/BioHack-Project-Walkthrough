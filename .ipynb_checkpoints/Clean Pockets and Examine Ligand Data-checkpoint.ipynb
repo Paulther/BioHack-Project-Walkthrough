{
 "cells": [
  {
   "cell_type": "code",
   "execution_count": 1,
   "id": "1201ba5f",
   "metadata": {},
   "outputs": [],
   "source": [
    "import numpy as np\n",
    "import pandas as pd\n",
    "import random\n",
    "import torch\n",
    "import math\n",
    "from Bio import SeqIO\n",
    "import Bio.PDB\n",
    "import urllib.request\n",
    "import py3Dmol\n",
    "import pylab\n",
    "import pickle as pickle\n",
    "import matplotlib.pyplot as plt\n",
    "import os\n",
    "from Bio import PDB\n",
    "from rdkit import Chem"
   ]
  },
  {
   "cell_type": "code",
   "execution_count": 2,
   "id": "1256ceb9",
   "metadata": {},
   "outputs": [],
   "source": [
    "class CFG:\n",
    "    pdbfiles: str = \"/home/paul/BioHack/pdbind-refined-set/\""
   ]
  },
  {
   "cell_type": "code",
   "execution_count": 3,
   "id": "48655369",
   "metadata": {},
   "outputs": [],
   "source": [
    "def remove_hetatm(input_pdb_file, output_pdb_file):\n",
    "    # Open the input PDB file for reading and the output PDB file for writing\n",
    "    with open(input_pdb_file, 'r') as infile, open(output_pdb_file, 'w') as outfile:\n",
    "        for line in infile:\n",
    "            # Check if the line starts with 'HETATM' (non-protein atoms)\n",
    "            if line.startswith('HETATM'):\n",
    "                continue  # Skip this line (HETATM record)\n",
    "            # Write all other lines to the output file\n",
    "            outfile.write(line)\n",
    "            \n",
    "def get_atom_types_from_sdf(sdf_file):\n",
    "    supplier = Chem.SDMolSupplier(sdf_file)\n",
    "    atom_types = set()\n",
    "\n",
    "    for mol in supplier:\n",
    "        if mol is not None:\n",
    "            atoms = mol.GetAtoms()\n",
    "            atom_types.update([atom.GetSymbol() for atom in atoms])\n",
    "\n",
    "    return sorted(list(atom_types))\n",
    "\n",
    "def get_atom_types_from_mol2_split(mol2_file):\n",
    "    atom_types = set()\n",
    "\n",
    "    with open(mol2_file, 'r') as mol2:\n",
    "        reading_atoms = False\n",
    "        for line in mol2:\n",
    "            if line.strip() == '@<TRIPOS>ATOM':\n",
    "                reading_atoms = True\n",
    "                continue\n",
    "            elif line.strip() == '@<TRIPOS>BOND':\n",
    "                break\n",
    "\n",
    "            if reading_atoms:\n",
    "                parts = line.split()\n",
    "                if len(parts) >= 5:\n",
    "                    atom_type = parts[5]\n",
    "                    atom_types.add(atom_type)\n",
    "    \n",
    "    atom_types_split = set()\n",
    "    for atom in atom_types:\n",
    "        atom_types_split.add(str(atom).split('.')[0])\n",
    "        \n",
    "\n",
    "    return sorted(list(atom_types_split))\n",
    "\n",
    "def get_atom_types_from_mol2(mol2_file):\n",
    "    atom_types = set()\n",
    "\n",
    "    with open(mol2_file, 'r') as mol2:\n",
    "        reading_atoms = False\n",
    "        for line in mol2:\n",
    "            if line.strip() == '@<TRIPOS>ATOM':\n",
    "                reading_atoms = True\n",
    "                continue\n",
    "            elif line.strip() == '@<TRIPOS>BOND':\n",
    "                break\n",
    "\n",
    "            if reading_atoms:\n",
    "                parts = line.split()\n",
    "                if len(parts) >= 5:\n",
    "                    atom_type = parts[5]\n",
    "                    atom_types.add(atom_type)\n",
    "\n",
    "    return sorted(list(atom_types))\n",
    "\n",
    "def get_atom_list_from_mol2_split(mol2_file):\n",
    "    atoms = []\n",
    "    with open(mol2_file, 'r') as mol2:\n",
    "        reading_atoms = False\n",
    "        for line in mol2:\n",
    "            if line.strip() == '@<TRIPOS>ATOM':\n",
    "                reading_atoms = True\n",
    "                continue\n",
    "            elif line.strip() == '@<TRIPOS>BOND':\n",
    "                break\n",
    "\n",
    "            if reading_atoms:\n",
    "                parts = line.split()\n",
    "                if len(parts) >= 5:\n",
    "                    atom_type = parts[5]\n",
    "                    atoms.append(atom_type)\n",
    "    \n",
    "    atom_list = []\n",
    "    for atom in atoms:\n",
    "        atom_list.append(str(atom).split('.')[0])\n",
    "        \n",
    "\n",
    "    return atom_list\n",
    "\n",
    "def get_atom_list_from_mol2(mol2_file):\n",
    "    atoms = []\n",
    "    with open(mol2_file, 'r') as mol2:\n",
    "        reading_atoms = False\n",
    "        for line in mol2:\n",
    "            if line.strip() == '@<TRIPOS>ATOM':\n",
    "                reading_atoms = True\n",
    "                continue\n",
    "            elif line.strip() == '@<TRIPOS>BOND':\n",
    "                break\n",
    "\n",
    "            if reading_atoms:\n",
    "                parts = line.split()\n",
    "                if len(parts) >= 5:\n",
    "                    atom_type = parts[5]\n",
    "                    atoms.append(atom_type)\n",
    "\n",
    "    return atoms\n",
    "\n",
    "def get_bond_types_from_mol2(mol2_file):\n",
    "    bond_types = set()\n",
    "\n",
    "    with open(mol2_file, 'r') as mol2:\n",
    "        reading_bonds = False\n",
    "        for line in mol2:\n",
    "            if line.strip() == '@<TRIPOS>BOND':\n",
    "                reading_bonds = True\n",
    "                continue\n",
    "            elif reading_bonds and line.strip().startswith('@<TRIPOS>'):\n",
    "                break\n",
    "\n",
    "            if reading_bonds:\n",
    "                parts = line.split()\n",
    "                if len(parts) >= 4:\n",
    "                    bond_type = parts[3]\n",
    "                    bond_types.add(bond_type)\n",
    "\n",
    "    return sorted(list(bond_types))\n",
    "\n",
    "def read_mol2_bonds(mol2_file):\n",
    "    bonds = []\n",
    "    bond_types = []\n",
    "\n",
    "    with open(mol2_file, 'r') as mol2:\n",
    "        reading_bonds = False\n",
    "        for line in mol2:\n",
    "            if line.strip() == '@<TRIPOS>BOND':\n",
    "                reading_bonds = True\n",
    "                continue\n",
    "            elif reading_bonds and line.strip().startswith('@<TRIPOS>'):\n",
    "                break\n",
    "\n",
    "            if reading_bonds:\n",
    "                parts = line.split()\n",
    "                if len(parts) >= 4:\n",
    "                    atom1_index = int(parts[1])\n",
    "                    atom2_index = int(parts[2])\n",
    "                    bond_type = parts[3]\n",
    "                    bonds.append((atom1_index, atom2_index))\n",
    "                    bond_types.append(bond_type)\n",
    "\n",
    "    return bonds, bond_types\n",
    "\n",
    "def calc_residue_dist(residue_one, residue_two) :\n",
    "    \"\"\"Returns the C-alpha distance between two residues\"\"\"\n",
    "    diff_vector  = residue_one[\"CA\"].coord - residue_two[\"CA\"].coord\n",
    "    return np.sqrt(np.sum(diff_vector * diff_vector))\n",
    "\n",
    "def calc_dist_matrix(chain_one, chain_two) :\n",
    "    \"\"\"Returns a matrix of C-alpha distances between two chains\"\"\"\n",
    "    answer = np.zeros((len(chain_one), len(chain_two)), float)\n",
    "    for row, residue_one in enumerate(chain_one) :\n",
    "        for col, residue_two in enumerate(chain_two) :\n",
    "            answer[row, col] = calc_residue_dist(residue_one, residue_two)\n",
    "    return answer\n",
    "\n",
    "def calc_contact_map(uniID,map_distance):\n",
    "    pdb_code = uniID\n",
    "    pdb_filename = uniID+\"_pocket_clean.pdb\"\n",
    "    structure = Bio.PDB.PDBParser(QUIET = True).get_structure(pdb_code, (CFG.pdbfiles +'/'+pdb_code+'/'+pdb_filename))\n",
    "    model = structure[0]\n",
    "    flag1 = 0\n",
    "    flag2 = 0\n",
    "    idx = 0\n",
    "    index = []\n",
    "    chain_info = []\n",
    "    \n",
    "    for chain1 in model:\n",
    "        for resi in chain1:\n",
    "            index.append(idx)\n",
    "            idx += 1\n",
    "            chain_info.append([chain1.id,resi.id])\n",
    "        for chain2 in model:\n",
    "            if flag1 == 0:\n",
    "                dist_matrix = calc_dist_matrix(model[chain1.id], model[chain2.id])\n",
    "            else:\n",
    "                new_matrix = calc_dist_matrix(model[chain1.id], model[chain2.id])\n",
    "                dist_matrix = np.hstack((dist_matrix,new_matrix))\n",
    "            flag1 += 1\n",
    "        flag1 = 0\n",
    "        if flag2 == 0:\n",
    "            top_matrix = dist_matrix\n",
    "        else:\n",
    "            top_matrix = np.vstack((top_matrix,dist_matrix))\n",
    "        flag2 += 1\n",
    "    \n",
    "    contact_map = top_matrix < map_distance\n",
    "    return contact_map, index, chain_info\n",
    "\n",
    "\n",
    "def one_hot_encode_single_res(res):\n",
    "    allowed = set(\"GAVCPLIMWFKRHSTYNQDEUO\")\n",
    "    if not set(res).issubset(allowed):\n",
    "        invalid = set(res) - allowed\n",
    "        raise ValueError(f\"Sequence has broken AA: {invalid}\")\n",
    "        \n",
    "    AA_dict = {'GLY':torch.Tensor([1.0,0.0,0.0,0.0,0.0,0.0,0.0,0.0,0.0,0.0,0.0,0.0,0.0,0.0,0.0,0.0,0.0,0.0,0.0,0.0]),\n",
    "               'ALA':torch.Tensor([0.0,1.0,0.0,0.0,0.0,0.0,0.0,0.0,0.0,0.0,0.0,0.0,0.0,0.0,0.0,0.0,0.0,0.0,0.0,0.0]),\n",
    "               'VAL':torch.Tensor([0.0,0.0,1.0,0.0,0.0,0.0,0.0,0.0,0.0,0.0,0.0,0.0,0.0,0.0,0.0,0.0,0.0,0.0,0.0,0.0]),\n",
    "               'CYS':torch.Tensor([0.0,0.0,0.0,1.0,0.0,0.0,0.0,0.0,0.0,0.0,0.0,0.0,0.0,0.0,0.0,0.0,0.0,0.0,0.0,0.0]),\n",
    "               'PRO':torch.Tensor([0.0,0.0,0.0,0.0,1.0,0.0,0.0,0.0,0.0,0.0,0.0,0.0,0.0,0.0,0.0,0.0,0.0,0.0,0.0,0.0]),\n",
    "               'LEU':torch.Tensor([0.0,0.0,0.0,0.0,0.0,1.0,0.0,0.0,0.0,0.0,0.0,0.0,0.0,0.0,0.0,0.0,0.0,0.0,0.0,0.0]),\n",
    "               'ILE':torch.Tensor([0.0,0.0,0.0,0.0,0.0,0.0,1.0,0.0,0.0,0.0,0.0,0.0,0.0,0.0,0.0,0.0,0.0,0.0,0.0,0.0]),\n",
    "               'MET':torch.Tensor([0.0,0.0,0.0,0.0,0.0,0.0,0.0,1.0,0.0,0.0,0.0,0.0,0.0,0.0,0.0,0.0,0.0,0.0,0.0,0.0]),\n",
    "               'TRP':torch.Tensor([0.0,0.0,0.0,0.0,0.0,0.0,0.0,0.0,1.0,0.0,0.0,0.0,0.0,0.0,0.0,0.0,0.0,0.0,0.0,0.0]),\n",
    "               'PHE':torch.Tensor([0.0,0.0,0.0,0.0,0.0,0.0,0.0,0.0,0.0,1.0,0.0,0.0,0.0,0.0,0.0,0.0,0.0,0.0,0.0,0.0]),\n",
    "               'LYS':torch.Tensor([0.0,0.0,0.0,0.0,0.0,0.0,0.0,0.0,0.0,0.0,1.0,0.0,0.0,0.0,0.0,0.0,0.0,0.0,0.0,0.0]),\n",
    "               'ARG':torch.Tensor([0.0,0.0,0.0,0.0,0.0,0.0,0.0,0.0,0.0,0.0,0.0,1.0,0.0,0.0,0.0,0.0,0.0,0.0,0.0,0.0]),\n",
    "               'HIS':torch.Tensor([0.0,0.0,0.0,0.0,0.0,0.0,0.0,0.0,0.0,0.0,0.0,0.0,1.0,0.0,0.0,0.0,0.0,0.0,0.0,0.0]),\n",
    "               'SER':torch.Tensor([0.0,0.0,0.0,0.0,0.0,0.0,0.0,0.0,0.0,0.0,0.0,0.0,0.0,1.0,0.0,0.0,0.0,0.0,0.0,0.0]),\n",
    "               'THR':torch.Tensor([0.0,0.0,0.0,0.0,0.0,0.0,0.0,0.0,0.0,0.0,0.0,0.0,0.0,0.0,1.0,0.0,0.0,0.0,0.0,0.0]),\n",
    "               'TYR':torch.Tensor([0.0,0.0,0.0,0.0,0.0,0.0,0.0,0.0,0.0,0.0,0.0,0.0,0.0,0.0,0.0,1.0,0.0,0.0,0.0,0.0]),\n",
    "               'ASN':torch.Tensor([0.0,0.0,0.0,0.0,0.0,0.0,0.0,0.0,0.0,0.0,0.0,0.0,0.0,0.0,0.0,0.0,1.0,0.0,0.0,0.0]),\n",
    "               'GLN':torch.Tensor([0.0,0.0,0.0,0.0,0.0,0.0,0.0,0.0,0.0,0.0,0.0,0.0,0.0,0.0,0.0,0.0,0.0,1.0,0.0,0.0]),\n",
    "               'ASP':torch.Tensor([0.0,0.0,0.0,0.0,0.0,0.0,0.0,0.0,0.0,0.0,0.0,0.0,0.0,0.0,0.0,0.0,0.0,0.0,1.0,0.0]),\n",
    "               'GLU':torch.Tensor([0.0,0.0,0.0,0.0,0.0,0.0,0.0,0.0,0.0,0.0,0.0,0.0,0.0,0.0,0.0,0.0,0.0,0.0,0.0,1.0]),}\n",
    "    return AA_dict[res]\n",
    "\n",
    "AA_dictionary = {'GLY':torch.Tensor([1.0,0.0,0.0,0.0,0.0,0.0,0.0,0.0,0.0,0.0,0.0,0.0,0.0,0.0,0.0,0.0,0.0,0.0,0.0,0.0]),\n",
    "            'ALA':torch.Tensor([0.0,1.0,0.0,0.0,0.0,0.0,0.0,0.0,0.0,0.0,0.0,0.0,0.0,0.0,0.0,0.0,0.0,0.0,0.0,0.0]),\n",
    "            'VAL':torch.Tensor([0.0,0.0,1.0,0.0,0.0,0.0,0.0,0.0,0.0,0.0,0.0,0.0,0.0,0.0,0.0,0.0,0.0,0.0,0.0,0.0]),\n",
    "            'CYS':torch.Tensor([0.0,0.0,0.0,1.0,0.0,0.0,0.0,0.0,0.0,0.0,0.0,0.0,0.0,0.0,0.0,0.0,0.0,0.0,0.0,0.0]),\n",
    "            'PRO':torch.Tensor([0.0,0.0,0.0,0.0,1.0,0.0,0.0,0.0,0.0,0.0,0.0,0.0,0.0,0.0,0.0,0.0,0.0,0.0,0.0,0.0]),\n",
    "            'LEU':torch.Tensor([0.0,0.0,0.0,0.0,0.0,1.0,0.0,0.0,0.0,0.0,0.0,0.0,0.0,0.0,0.0,0.0,0.0,0.0,0.0,0.0]),\n",
    "            'ILE':torch.Tensor([0.0,0.0,0.0,0.0,0.0,0.0,1.0,0.0,0.0,0.0,0.0,0.0,0.0,0.0,0.0,0.0,0.0,0.0,0.0,0.0]),\n",
    "            'MET':torch.Tensor([0.0,0.0,0.0,0.0,0.0,0.0,0.0,1.0,0.0,0.0,0.0,0.0,0.0,0.0,0.0,0.0,0.0,0.0,0.0,0.0]),\n",
    "            'TRP':torch.Tensor([0.0,0.0,0.0,0.0,0.0,0.0,0.0,0.0,1.0,0.0,0.0,0.0,0.0,0.0,0.0,0.0,0.0,0.0,0.0,0.0]),\n",
    "            'PHE':torch.Tensor([0.0,0.0,0.0,0.0,0.0,0.0,0.0,0.0,0.0,1.0,0.0,0.0,0.0,0.0,0.0,0.0,0.0,0.0,0.0,0.0]),\n",
    "            'LYS':torch.Tensor([0.0,0.0,0.0,0.0,0.0,0.0,0.0,0.0,0.0,0.0,1.0,0.0,0.0,0.0,0.0,0.0,0.0,0.0,0.0,0.0]),\n",
    "            'ARG':torch.Tensor([0.0,0.0,0.0,0.0,0.0,0.0,0.0,0.0,0.0,0.0,0.0,1.0,0.0,0.0,0.0,0.0,0.0,0.0,0.0,0.0]),\n",
    "            'HIS':torch.Tensor([0.0,0.0,0.0,0.0,0.0,0.0,0.0,0.0,0.0,0.0,0.0,0.0,1.0,0.0,0.0,0.0,0.0,0.0,0.0,0.0]),\n",
    "            'SER':torch.Tensor([0.0,0.0,0.0,0.0,0.0,0.0,0.0,0.0,0.0,0.0,0.0,0.0,0.0,1.0,0.0,0.0,0.0,0.0,0.0,0.0]),\n",
    "            'THR':torch.Tensor([0.0,0.0,0.0,0.0,0.0,0.0,0.0,0.0,0.0,0.0,0.0,0.0,0.0,0.0,1.0,0.0,0.0,0.0,0.0,0.0]),\n",
    "            'TYR':torch.Tensor([0.0,0.0,0.0,0.0,0.0,0.0,0.0,0.0,0.0,0.0,0.0,0.0,0.0,0.0,0.0,1.0,0.0,0.0,0.0,0.0]),\n",
    "            'ASN':torch.Tensor([0.0,0.0,0.0,0.0,0.0,0.0,0.0,0.0,0.0,0.0,0.0,0.0,0.0,0.0,0.0,0.0,1.0,0.0,0.0,0.0]),\n",
    "            'GLN':torch.Tensor([0.0,0.0,0.0,0.0,0.0,0.0,0.0,0.0,0.0,0.0,0.0,0.0,0.0,0.0,0.0,0.0,0.0,1.0,0.0,0.0]),\n",
    "            'ASP':torch.Tensor([0.0,0.0,0.0,0.0,0.0,0.0,0.0,0.0,0.0,0.0,0.0,0.0,0.0,0.0,0.0,0.0,0.0,0.0,1.0,0.0]),\n",
    "            'GLU':torch.Tensor([0.0,0.0,0.0,0.0,0.0,0.0,0.0,0.0,0.0,0.0,0.0,0.0,0.0,0.0,0.0,0.0,0.0,0.0,0.0,1.0]),}\n",
    "\n",
    "def uniID2graph(uniID,map_distance):\n",
    "    atom_name = 'CA'\n",
    "    node_feature = []\n",
    "    edge_index = []\n",
    "    edge_attr = []\n",
    "    contact_map, index, chain_info = calc_contact_map(uniID,map_distance)\n",
    "    pdb_code = uniID\n",
    "    pdb_filename = uniID+\"_pocket_clean.pdb\"\n",
    "    structure = Bio.PDB.PDBParser(QUIET = True).get_structure(pdb_code, (CFG.pdbfiles +'/'+pdb_code+'/'+pdb_filename))\n",
    "    model = structure[0]\n",
    "    \n",
    "    for i in index:\n",
    "        node_feature.append(one_hot_encode_single_res(model[chain_info[i][0]][chain_info[i][1]].get_resname()))\n",
    "        for j in index:\n",
    "            if contact_map[i,j] == 1:\n",
    "                edge_index.append([i,j])\n",
    "                diff_vector = model[chain_info[i][0]][chain_info[i][1]]['CA'].coord - model[chain_info[j][0]][chain_info[j][1]]['CA'].coord\n",
    "                edge_feature = (np.sqrt(np.sum(diff_vector * diff_vector))/map_distance)        \n",
    "                edge_attr.append(edge_feature)\n",
    "                            \n",
    "    edge_index = np.array(edge_index)\n",
    "    edge_index = edge_index.transpose()\n",
    "    edge_index = torch.Tensor(edge_index)\n",
    "    edge_index = edge_index.to(torch.int64)\n",
    "    edge_attr = torch.Tensor(edge_attr)\n",
    "    node_feature = torch.stack(node_feature)\n",
    "    graph = Data(x = node_feature, edge_index = edge_index,edge_attr = edge_attr)\n",
    "    return graph"
   ]
  },
  {
   "cell_type": "code",
   "execution_count": 5,
   "id": "d18cbe1b",
   "metadata": {},
   "outputs": [
    {
     "name": "stdout",
     "output_type": "stream",
     "text": [
      "5316\n",
      "5316\n"
     ]
    }
   ],
   "source": [
    "total_count = 0\n",
    "file_count = 0\n",
    "for filename in os.listdir(CFG.pdbfiles):\n",
    "    num_files = 0\n",
    "    for file in os.listdir(CFG.pdbfiles+filename):\n",
    "        num_files += 1\n",
    "    if num_files > 0:\n",
    "        file_count += 1\n",
    "    total_count += 1\n",
    "\n",
    "print(total_count)\n",
    "print(file_count)"
   ]
  },
  {
   "cell_type": "code",
   "execution_count": 4,
   "id": "03c48ca0",
   "metadata": {},
   "outputs": [],
   "source": [
    "for filename in os.listdir(CFG.pdbfiles):\n",
    "    input_pdb_filename = CFG.pdbfiles+filename+'/'+filename+'_protein'\n",
    "    output_pdb_filename = input_pdb_filename+'_clean.pdb'\n",
    "    remove_hetatm(input_pdb_filename+'.pdb', output_pdb_filename)\n"
   ]
  },
  {
   "cell_type": "code",
   "execution_count": 192,
   "id": "7b110f1c",
   "metadata": {},
   "outputs": [],
   "source": [
    "count = 0\n",
    "Atom_type_count = {}\n",
    "for filename in os.listdir(CFG.pdbfiles):\n",
    "    mol2_file = CFG.pdbfiles+filename+'/'+filename+'_ligand.mol2'\n",
    "    atoms = get_atom_types_from_mol2_split(mol2_file)\n",
    "    for atom in atoms:\n",
    "        if atom in Atom_type_count:\n",
    "            Atom_type_count[atom] += 1\n",
    "        else:\n",
    "            Atom_type_count.update({atom: 1})"
   ]
  },
  {
   "cell_type": "code",
   "execution_count": 193,
   "id": "ed586cd1",
   "metadata": {},
   "outputs": [],
   "source": [
    "x = []\n",
    "count = []\n",
    "for atom in Atom_type_count:\n",
    "    x.append(atom)\n",
    "    count.append(Atom_type_count[atom])"
   ]
  },
  {
   "cell_type": "code",
   "execution_count": 194,
   "id": "119c409e",
   "metadata": {},
   "outputs": [
    {
     "data": {
      "image/png": "[encoded data removed]",
      "text/plain": [
       "<Figure size 640x480 with 1 Axes>"
      ]
     },
     "metadata": {},
     "output_type": "display_data"
    }
   ],
   "source": [
    "plt.bar(x,count)\n",
    "plt.show()"
   ]
  },
  {
   "cell_type": "code",
   "execution_count": 44,
   "id": "79770b8e",
   "metadata": {},
   "outputs": [],
   "source": [
    "names = []\n",
    "for filename in os.listdir(CFG.pdbfiles):\n",
    "    mol2_file = CFG.pdbfiles+filename+'/'+filename+'_ligand.mol2'\n",
    "    atoms = get_atom_types_from_mol2(mol2_file)\n",
    "    if not('Br' in atoms) or not('I' in atoms):\n",
    "        names.append(filename)"
   ]
  },
  {
   "cell_type": "code",
   "execution_count": 47,
   "id": "c0bcd3c6",
   "metadata": {},
   "outputs": [],
   "source": [
    "with open('names_wo_rare_elements.txt', 'w') as f:\n",
    "    for line in names:\n",
    "        f.write(f\"{line}\\n\")"
   ]
  },
  {
   "cell_type": "code",
   "execution_count": 144,
   "id": "cd10b304",
   "metadata": {},
   "outputs": [
    {
     "name": "stdout",
     "output_type": "stream",
     "text": [
      "6dh2\n"
     ]
    }
   ],
   "source": [
    "name = random.choice(names)\n",
    "contact_map, index, chain_info = calc_contact_map(name,12.0)\n",
    "print(name)"
   ]
  },
  {
   "cell_type": "code",
   "execution_count": 145,
   "id": "a8cddb80",
   "metadata": {},
   "outputs": [
    {
     "data": {
      "image/png": "[encoded data removed]",
      "text/plain": [
       "<Figure size 640x480 with 1 Axes>"
      ]
     },
     "metadata": {},
     "output_type": "display_data"
    }
   ],
   "source": [
    "plt.imshow(contact_map)\n",
    "plt.show()"
   ]
  },
  {
   "cell_type": "code",
   "execution_count": 242,
   "id": "8949fe81",
   "metadata": {},
   "outputs": [
    {
     "data": {
      "text/plain": [
       "Data(x=[62, 20], edge_index=[2, 1358], edge_attr=[1358])"
      ]
     },
     "execution_count": 242,
     "metadata": {},
     "output_type": "execute_result"
    }
   ],
   "source": [
    "uniID2graph(name,12.0)"
   ]
  },
  {
   "cell_type": "code",
   "execution_count": 212,
   "id": "4db6725b",
   "metadata": {},
   "outputs": [
    {
     "name": "stdout",
     "output_type": "stream",
     "text": [
      "['C.3', 'C.3', 'C.3', 'C.3', 'C.3', 'C.3', 'C.2', 'C.3', 'N.2', 'S.3', 'O.3', 'O.3', 'O.3', 'O.3', 'C.3', 'C.3', 'C.3', 'C.3', 'C.3', 'C.3', 'C.2', 'C.3', 'N.am', 'O.3', 'O.3', 'O.3', 'O.3', 'O.2', 'H', 'H', 'H', 'H', 'H', 'H', 'H', 'H', 'H', 'H', 'H', 'H', 'H', 'H', 'H', 'H', 'H', 'H', 'H', 'H', 'H', 'H', 'H', 'H', 'H', 'H']\n",
      "54\n"
     ]
    }
   ],
   "source": [
    "for filename in os.listdir(CFG.pdbfiles):\n",
    "    mol2_file = CFG.pdbfiles+filename+'/'+filename+'_ligand.mol2'\n",
    "    atom_list = get_atom_list_from_mol2(mol2_file)\n",
    "    print(atom_list)\n",
    "    print(len(atom_list))\n",
    "    break"
   ]
  },
  {
   "cell_type": "code",
   "execution_count": 202,
   "id": "e189ebd2",
   "metadata": {},
   "outputs": [],
   "source": [
    "bonds, bond_types = read_mol2_bonds(mol2_file)\n",
    "#bond_type = get_bond_types_from_mol2(mol2_file)"
   ]
  },
  {
   "cell_type": "code",
   "execution_count": 240,
   "id": "e062688c",
   "metadata": {},
   "outputs": [
    {
     "name": "stdout",
     "output_type": "stream",
     "text": [
      "[(15, 1), (16, 1), (2, 15), (2, 17), (18, 2), (3, 18), (3, 19), (20, 3), (4, 17), (19, 4), (21, 5), (5, 22), (21, 6), (6, 23), (6, 25), (8, 7), (8, 9), (13, 8), (9, 10), (11, 10), (12, 11), (13, 12), (14, 13), (15, 14), (17, 16), (20, 21), (20, 24), (23, 24), (1, 26), (4, 27), (9, 28), (10, 29), (11, 30), (12, 31), (14, 32), (14, 33), (16, 34), (18, 35), (19, 36), (23, 37), (25, 38), (25, 39)]\n",
      "['1', '2', '1', 'ar', 'ar', 'ar', 'ar', '1', 'ar', 'ar', '1', '3', '2', '1', '1', '2', 'am', '1', 'am', '2', '1', '2', '1', '1', '1', '1', '2', '1', '1', '1', '1', '1', '1', '1', '1', '1', '1', '1', '1', '1', '1', '1']\n",
      "6qr2\n"
     ]
    }
   ],
   "source": [
    "print(bonds)\n",
    "print(bond_types)\n",
    "#print(bond_type)\n",
    "print(filename)"
   ]
  },
  {
   "cell_type": "code",
   "execution_count": 196,
   "id": "8806a934",
   "metadata": {},
   "outputs": [],
   "source": [
    "count = 0\n",
    "Bond_type_count = {}\n",
    "for filename in os.listdir(CFG.pdbfiles):\n",
    "    mol2_file = CFG.pdbfiles+filename+'/'+filename+'_ligand.mol2'\n",
    "    bonds = get_bond_types_from_mol2(mol2_file)\n",
    "    for bond in bonds:\n",
    "        if bond in Bond_type_count:\n",
    "            Bond_type_count[bond] += 1\n",
    "        else:\n",
    "            Bond_type_count.update({bond: 1})"
   ]
  },
  {
   "cell_type": "code",
   "execution_count": 235,
   "id": "1da68a44",
   "metadata": {},
   "outputs": [],
   "source": [
    "Bond_type_count.update({'nc': 0})"
   ]
  },
  {
   "cell_type": "code",
   "execution_count": 236,
   "id": "7189acc2",
   "metadata": {},
   "outputs": [],
   "source": [
    "x = []\n",
    "bond_count = []\n",
    "for bond in Bond_type_count:\n",
    "    x.append(bond)\n",
    "    bond_count.append(Bond_type_count[bond])"
   ]
  },
  {
   "cell_type": "code",
   "execution_count": 237,
   "id": "d35edcb2",
   "metadata": {},
   "outputs": [
    {
     "data": {
      "image/png": "[encoded data removed]",
      "text/plain": [
       "<Figure size 640x480 with 1 Axes>"
      ]
     },
     "metadata": {},
     "output_type": "display_data"
    }
   ],
   "source": [
    "plt.bar(x,bond_count)\n",
    "plt.show()"
   ]
  },
  {
   "cell_type": "code",
   "execution_count": 232,
   "id": "b2d50257",
   "metadata": {},
   "outputs": [],
   "source": [
    "count = 0\n",
    "Atom_type_count = {}\n",
    "for filename in os.listdir(CFG.pdbfiles):\n",
    "    mol2_file = CFG.pdbfiles+filename+'/'+filename+'_ligand.mol2'\n",
    "    atoms = get_atom_types_from_mol2_split(mol2_file)\n",
    "    for atom in atoms:\n",
    "        if atom in Atom_type_count:\n",
    "            Atom_type_count[atom] += 1\n",
    "        else:\n",
    "            Atom_type_count.update({atom: 1})"
   ]
  },
  {
   "cell_type": "code",
   "execution_count": 233,
   "id": "e49dad3f",
   "metadata": {},
   "outputs": [],
   "source": [
    "x = []\n",
    "count = []\n",
    "for atom in Atom_type_count:\n",
    "    x.append(atom)\n",
    "    count.append(Atom_type_count[atom])"
   ]
  },
  {
   "cell_type": "code",
   "execution_count": 234,
   "id": "c3eaca26",
   "metadata": {},
   "outputs": [
    {
     "data": {
      "image/png": "[encoded data removed]",
      "text/plain": [
       "<Figure size 640x480 with 1 Axes>"
      ]
     },
     "metadata": {},
     "output_type": "display_data"
    }
   ],
   "source": [
    "plt.bar(x,count)\n",
    "plt.show()"
   ]
  },
  {
   "cell_type": "code",
   "execution_count": 220,
   "id": "535ec3d1",
   "metadata": {},
   "outputs": [],
   "source": [
    "def dict2embeding(dict_):\n",
    "    count = 0\n",
    "    out_id = {}\n",
    "    for i in dict_:\n",
    "        x = np.zeros(len(dict_))\n",
    "        x[count] = 1.\n",
    "        count +=1\n",
    "        out_id.update({str(i): x})\n",
    "    return out_id"
   ]
  },
  {
   "cell_type": "code",
   "execution_count": 221,
   "id": "230d9644",
   "metadata": {},
   "outputs": [
    {
     "name": "stdout",
     "output_type": "stream",
     "text": [
      "C.2\n"
     ]
    }
   ],
   "source": [
    "for i in Atom_type_count:\n",
    "    print(i)\n",
    "    break"
   ]
  },
  {
   "cell_type": "code",
   "execution_count": 238,
   "id": "cf00ec38",
   "metadata": {},
   "outputs": [],
   "source": [
    "atom_type_dict = dict2embeding(Atom_type_count)\n",
    "bond_type_dict = dict2embeding(Bond_type_count)\n",
    "AA_dict = dict2embeding(AA_dictionary)"
   ]
  },
  {
   "cell_type": "code",
   "execution_count": 228,
   "id": "0ea7d0c2",
   "metadata": {},
   "outputs": [],
   "source": [
    "with open('atom_type_dict.pkl', 'wb') as f:\n",
    "    pickle.dump(atom_type_dict, f)"
   ]
  },
  {
   "cell_type": "code",
   "execution_count": 239,
   "id": "1e48ff94",
   "metadata": {},
   "outputs": [],
   "source": [
    "with open('bond_type_dict.pkl', 'wb') as f:\n",
    "    pickle.dump(bond_type_dict, f)"
   ]
  },
  {
   "cell_type": "code",
   "execution_count": 231,
   "id": "65b5777a",
   "metadata": {},
   "outputs": [],
   "source": [
    "with open('AA_dict.pkl', 'wb') as f:\n",
    "    pickle.dump(AA_dict, f)"
   ]
  },
  {
   "cell_type": "code",
   "execution_count": null,
   "id": "6d5d3691",
   "metadata": {},
   "outputs": [],
   "source": [
    "#with open('saved_dictionary.pkl', 'rb') as f:\n",
    "#    loaded_dict = pickle.load(f)"
   ]
  }
 ],
 "metadata": {
  "kernelspec": {
   "display_name": "Python 3 (ipykernel)",
   "language": "python",
   "name": "python3"
  },
  "language_info": {
   "codemirror_mode": {
    "name": "ipython",
    "version": 3
   },
   "file_extension": ".py",
   "mimetype": "text/x-python",
   "name": "python",
   "nbconvert_exporter": "python",
   "pygments_lexer": "ipython3",
   "version": "3.11.3"
  }
 },
 "nbformat": 4,
 "nbformat_minor": 5
}
