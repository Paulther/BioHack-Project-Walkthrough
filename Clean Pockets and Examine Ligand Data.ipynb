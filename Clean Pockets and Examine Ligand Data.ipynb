{
 "cells": [
  {
   "cell_type": "code",
   "execution_count": 1,
   "id": "1201ba5f",
   "metadata": {},
   "outputs": [],
   "source": [
    "import numpy as np\n",
    "import pandas as pd\n",
    "import random\n",
    "import torch\n",
    "import math\n",
    "from Bio import SeqIO\n",
    "import Bio.PDB\n",
    "import pickle as pickle\n",
    "import matplotlib.pyplot as plt\n",
    "import os\n",
    "from Bio import PDB"
   ]
  },
  {
   "cell_type": "markdown",
   "id": "78807be8",
   "metadata": {},
   "source": [
    "**Insert the path to the PDB Refines set from PDBind** "
   ]
  },
  {
   "cell_type": "code",
   "execution_count": 2,
   "id": "1256ceb9",
   "metadata": {},
   "outputs": [],
   "source": [
    "class CFG:\n",
    "    pdbfiles: str = \"/home/paul/Desktop/BioHack-Project-Walkthrough/pdbind-refined-set/\""
   ]
  },
  {
   "cell_type": "code",
   "execution_count": 3,
   "id": "efef9960",
   "metadata": {},
   "outputs": [],
   "source": [
    "def remove_hetatm(input_pdb_file, output_pdb_file):\n",
    "    \"Removes HETATMS from raw PDB Files and outputs the clean PDB into a new file location\"\n",
    "    # Open the input PDB file for reading and the output PDB file for writing\n",
    "    with open(input_pdb_file, 'r') as infile, open(output_pdb_file, 'w') as outfile:\n",
    "        for line in infile:\n",
    "            # Check if the line starts with 'HETATM' (non-protein atoms)\n",
    "            if line.startswith('HETATM'):\n",
    "                continue  # Skip this line (HETATM record)\n",
    "            # Write all other lines to the output file\n",
    "            outfile.write(line)\n",
    "def remove_missing_alpha_carbons(input_pdb_file, output_pdb_file):\n",
    "    \"Removes all residues from a PDB file if the alpha carbon is missing\"\n",
    "    # Parse the input PDB file\n",
    "    parser = PDB.PDBParser(QUIET=True)\n",
    "    structure = parser.get_structure('structure', input_pdb_file)\n",
    "\n",
    "    # Iterate over residues and identify those missing alpha carbons\n",
    "    residues_to_remove = []\n",
    "    for model in structure:\n",
    "        for chain in model:\n",
    "            for residue in chain:\n",
    "                if 'CA' not in residue:\n",
    "                    residues_to_remove.append(residue)\n",
    "\n",
    "    # Remove identified residues from the structure\n",
    "    for residue in residues_to_remove:\n",
    "        chain = residue.get_parent()\n",
    "        chain.detach_child(residue.id)\n",
    "\n",
    "    # Save the modified structure to the output file\n",
    "    io = PDB.PDBIO()\n",
    "    io.set_structure(structure)\n",
    "    io.save(output_pdb_file)\n",
    "    \n",
    "def get_atom_types_from_mol2_split(mol2_file):\n",
    "    \"Returns a set of the atoms present in a Mol2 File\"\n",
    "    atom_types = set()\n",
    "\n",
    "    with open(mol2_file, 'r') as mol2:\n",
    "        reading_atoms = False\n",
    "        for line in mol2:\n",
    "            if line.strip() == '@<TRIPOS>ATOM':\n",
    "                reading_atoms = True\n",
    "                continue\n",
    "            elif line.strip() == '@<TRIPOS>BOND':\n",
    "                break\n",
    "\n",
    "            if reading_atoms:\n",
    "                parts = line.split()\n",
    "                if len(parts) >= 5:\n",
    "                    atom_type = parts[5]\n",
    "                    atom_types.add(atom_type)\n",
    "    \n",
    "    atom_types_split = set()\n",
    "    for atom in atom_types:\n",
    "        atom_types_split.add(str(atom).split('.')[0])\n",
    "        \n",
    "\n",
    "    return sorted(list(atom_types_split))\n",
    "\n",
    "def get_bond_types_from_mol2(mol2_file):\n",
    "    \"Returns a set of bond types present in a Mol2 File\"\n",
    "    bond_types = set()\n",
    "\n",
    "    with open(mol2_file, 'r') as mol2:\n",
    "        reading_bonds = False\n",
    "        for line in mol2:\n",
    "            if line.strip() == '@<TRIPOS>BOND':\n",
    "                reading_bonds = True\n",
    "                continue\n",
    "            elif reading_bonds and line.strip().startswith('@<TRIPOS>'):\n",
    "                break\n",
    "\n",
    "            if reading_bonds:\n",
    "                parts = line.split()\n",
    "                if len(parts) >= 4:\n",
    "                    bond_type = parts[3]\n",
    "                    bond_types.add(bond_type)\n",
    "\n",
    "    return sorted(list(bond_types))\n",
    "\n",
    "def dict2embeding(dict_):\n",
    "    \"Convert dictionary to a new dictionary containing the OHEings\"\n",
    "    count = 0\n",
    "    out_id = {}\n",
    "    for i in dict_:\n",
    "        x = np.zeros(len(dict_))\n",
    "        x[count] = 1.\n",
    "        count +=1\n",
    "        out_id.update({str(i): x})\n",
    "    return out_id\n",
    "\n",
    "AA_dictionary = {'GLY':torch.Tensor([1.0,0.0,0.0,0.0,0.0,0.0,0.0,0.0,0.0,0.0,0.0,0.0,0.0,0.0,0.0,0.0,0.0,0.0,0.0,0.0]),\n",
    "            'ALA':torch.Tensor([0.0,1.0,0.0,0.0,0.0,0.0,0.0,0.0,0.0,0.0,0.0,0.0,0.0,0.0,0.0,0.0,0.0,0.0,0.0,0.0]),\n",
    "            'VAL':torch.Tensor([0.0,0.0,1.0,0.0,0.0,0.0,0.0,0.0,0.0,0.0,0.0,0.0,0.0,0.0,0.0,0.0,0.0,0.0,0.0,0.0]),\n",
    "            'CYS':torch.Tensor([0.0,0.0,0.0,1.0,0.0,0.0,0.0,0.0,0.0,0.0,0.0,0.0,0.0,0.0,0.0,0.0,0.0,0.0,0.0,0.0]),\n",
    "            'PRO':torch.Tensor([0.0,0.0,0.0,0.0,1.0,0.0,0.0,0.0,0.0,0.0,0.0,0.0,0.0,0.0,0.0,0.0,0.0,0.0,0.0,0.0]),\n",
    "            'LEU':torch.Tensor([0.0,0.0,0.0,0.0,0.0,1.0,0.0,0.0,0.0,0.0,0.0,0.0,0.0,0.0,0.0,0.0,0.0,0.0,0.0,0.0]),\n",
    "            'ILE':torch.Tensor([0.0,0.0,0.0,0.0,0.0,0.0,1.0,0.0,0.0,0.0,0.0,0.0,0.0,0.0,0.0,0.0,0.0,0.0,0.0,0.0]),\n",
    "            'MET':torch.Tensor([0.0,0.0,0.0,0.0,0.0,0.0,0.0,1.0,0.0,0.0,0.0,0.0,0.0,0.0,0.0,0.0,0.0,0.0,0.0,0.0]),\n",
    "            'TRP':torch.Tensor([0.0,0.0,0.0,0.0,0.0,0.0,0.0,0.0,1.0,0.0,0.0,0.0,0.0,0.0,0.0,0.0,0.0,0.0,0.0,0.0]),\n",
    "            'PHE':torch.Tensor([0.0,0.0,0.0,0.0,0.0,0.0,0.0,0.0,0.0,1.0,0.0,0.0,0.0,0.0,0.0,0.0,0.0,0.0,0.0,0.0]),\n",
    "            'LYS':torch.Tensor([0.0,0.0,0.0,0.0,0.0,0.0,0.0,0.0,0.0,0.0,1.0,0.0,0.0,0.0,0.0,0.0,0.0,0.0,0.0,0.0]),\n",
    "            'ARG':torch.Tensor([0.0,0.0,0.0,0.0,0.0,0.0,0.0,0.0,0.0,0.0,0.0,1.0,0.0,0.0,0.0,0.0,0.0,0.0,0.0,0.0]),\n",
    "            'HIS':torch.Tensor([0.0,0.0,0.0,0.0,0.0,0.0,0.0,0.0,0.0,0.0,0.0,0.0,1.0,0.0,0.0,0.0,0.0,0.0,0.0,0.0]),\n",
    "            'SER':torch.Tensor([0.0,0.0,0.0,0.0,0.0,0.0,0.0,0.0,0.0,0.0,0.0,0.0,0.0,1.0,0.0,0.0,0.0,0.0,0.0,0.0]),\n",
    "            'THR':torch.Tensor([0.0,0.0,0.0,0.0,0.0,0.0,0.0,0.0,0.0,0.0,0.0,0.0,0.0,0.0,1.0,0.0,0.0,0.0,0.0,0.0]),\n",
    "            'TYR':torch.Tensor([0.0,0.0,0.0,0.0,0.0,0.0,0.0,0.0,0.0,0.0,0.0,0.0,0.0,0.0,0.0,1.0,0.0,0.0,0.0,0.0]),\n",
    "            'ASN':torch.Tensor([0.0,0.0,0.0,0.0,0.0,0.0,0.0,0.0,0.0,0.0,0.0,0.0,0.0,0.0,0.0,0.0,1.0,0.0,0.0,0.0]),\n",
    "            'GLN':torch.Tensor([0.0,0.0,0.0,0.0,0.0,0.0,0.0,0.0,0.0,0.0,0.0,0.0,0.0,0.0,0.0,0.0,0.0,1.0,0.0,0.0]),\n",
    "            'ASP':torch.Tensor([0.0,0.0,0.0,0.0,0.0,0.0,0.0,0.0,0.0,0.0,0.0,0.0,0.0,0.0,0.0,0.0,0.0,0.0,1.0,0.0]),\n",
    "            'GLU':torch.Tensor([0.0,0.0,0.0,0.0,0.0,0.0,0.0,0.0,0.0,0.0,0.0,0.0,0.0,0.0,0.0,0.0,0.0,0.0,0.0,1.0]),}"
   ]
  },
  {
   "cell_type": "markdown",
   "id": "e7b4103f",
   "metadata": {},
   "source": [
    "Ensure all PDB Files are present (There should be 5316)"
   ]
  },
  {
   "cell_type": "code",
   "execution_count": 5,
   "id": "d18cbe1b",
   "metadata": {},
   "outputs": [
    {
     "name": "stdout",
     "output_type": "stream",
     "text": [
      "5316\n",
      "5316\n"
     ]
    }
   ],
   "source": [
    "total_count = 0\n",
    "file_count = 0\n",
    "for filename in os.listdir(CFG.pdbfiles):\n",
    "    num_files = 0\n",
    "    for file in os.listdir(CFG.pdbfiles+filename):\n",
    "        num_files += 1\n",
    "    if num_files > 0:\n",
    "        file_count += 1\n",
    "    total_count += 1\n",
    "\n",
    "print(total_count)\n",
    "print(file_count)"
   ]
  },
  {
   "cell_type": "markdown",
   "id": "cd9f9c93",
   "metadata": {},
   "source": [
    "Remove all HETATMS from the PDB Files -<br>\n",
    "All Ligands are stored in seperate files as either SDF or Mol2 Files so this command only removes water, ions and crystalographic additives.<br> These HETATMS also need to be removed from the binding pocket PDB files. Some of the binding pockets contain residues with missing backbone atoms. These residues need to be deleted"
   ]
  },
  {
   "cell_type": "code",
   "execution_count": 6,
   "id": "03c48ca0",
   "metadata": {},
   "outputs": [],
   "source": [
    "for filename in os.listdir(CFG.pdbfiles):\n",
    "    input_pdb_filename = CFG.pdbfiles+filename+'/'+filename+'_protein'\n",
    "    output_pdb_filename = input_pdb_filename+'_clean.pdb'\n",
    "    remove_hetatm(input_pdb_filename+'.pdb', output_pdb_filename)\n",
    "\n",
    "for filename in os.listdir(CFG.pdbfiles):\n",
    "    input_pdb_filename = CFG.pdbfiles+filename+'/'+filename+'_pocket'\n",
    "    output_pdb_filename = input_pdb_filename+'_clean.pdb'\n",
    "    remove_hetatm(input_pdb_filename+'.pdb', output_pdb_filename)\n",
    "\n",
    "for filename in os.listdir(CFG.pdbfiles):\n",
    "    input_pdb_filename = CFG.pdbfiles+filename+'/'+filename+'_pocket'\n",
    "    output_pdb_filename = input_pdb_filename+'_clean.pdb'\n",
    "    remove_missing_alpha_carbons(output_pdb_filename, output_pdb_filename)"
   ]
  },
  {
   "cell_type": "markdown",
   "id": "8fe70e22",
   "metadata": {},
   "source": [
    "Exploring the dataset -<br>Find all elemnts present is the set of ligands and visualize how many of each atom are present across the dataset"
   ]
  },
  {
   "cell_type": "code",
   "execution_count": 9,
   "id": "7b110f1c",
   "metadata": {},
   "outputs": [],
   "source": [
    "count = 0\n",
    "Atom_type_count = {}\n",
    "for filename in os.listdir(CFG.pdbfiles):\n",
    "    mol2_file = CFG.pdbfiles+filename+'/'+filename+'_ligand.mol2'\n",
    "    atoms = get_atom_types_from_mol2_split(mol2_file)\n",
    "    for atom in atoms:\n",
    "        if atom in Atom_type_count:\n",
    "            Atom_type_count[atom] += 1\n",
    "        else:\n",
    "            Atom_type_count.update({atom: 1})"
   ]
  },
  {
   "cell_type": "code",
   "execution_count": 10,
   "id": "ed586cd1",
   "metadata": {},
   "outputs": [],
   "source": [
    "x = []\n",
    "count = []\n",
    "for atom in Atom_type_count:\n",
    "    x.append(atom)\n",
    "    count.append(Atom_type_count[atom])"
   ]
  },
  {
   "cell_type": "code",
   "execution_count": 11,
   "id": "119c409e",
   "metadata": {},
   "outputs": [
    {
     "data": {
      "image/png": "[encoded data removed]",
      "text/plain": [
       "<Figure size 640x480 with 1 Axes>"
      ]
     },
     "metadata": {},
     "output_type": "display_data"
    }
   ],
   "source": [
    "plt.bar(x,count)\n",
    "plt.show()"
   ]
  },
  {
   "cell_type": "markdown",
   "id": "416765fc",
   "metadata": {},
   "source": [
    "Same thing as above except with bond types in the ligand file - Note: Include the \"Not Connected\" type as well, will come up in the future"
   ]
  },
  {
   "cell_type": "code",
   "execution_count": 12,
   "id": "3106afcc",
   "metadata": {},
   "outputs": [],
   "source": [
    "count = 0\n",
    "Bond_type_count = {}\n",
    "for filename in os.listdir(CFG.pdbfiles):\n",
    "    mol2_file = CFG.pdbfiles+filename+'/'+filename+'_ligand.mol2'\n",
    "    bonds = get_bond_types_from_mol2(mol2_file)\n",
    "    for bond in bonds:\n",
    "        if bond in Bond_type_count:\n",
    "            Bond_type_count[bond] += 1\n",
    "        else:\n",
    "            Bond_type_count.update({bond: 1})\n",
    "\n",
    "Bond_type_count.update({'nc': 0})"
   ]
  },
  {
   "cell_type": "code",
   "execution_count": 13,
   "id": "aa2fa5b1",
   "metadata": {},
   "outputs": [],
   "source": [
    "x = []\n",
    "bond_count = []\n",
    "for bond in Bond_type_count:\n",
    "    x.append(bond)\n",
    "    bond_count.append(Bond_type_count[bond])"
   ]
  },
  {
   "cell_type": "code",
   "execution_count": 14,
   "id": "24f35e56",
   "metadata": {},
   "outputs": [
    {
     "data": {
      "image/png": "[encoded data removed]",
      "text/plain": [
       "<Figure size 640x480 with 1 Axes>"
      ]
     },
     "metadata": {},
     "output_type": "display_data"
    }
   ],
   "source": [
    "plt.bar(x,bond_count)\n",
    "plt.show()"
   ]
  },
  {
   "cell_type": "code",
   "execution_count": 15,
   "id": "cf00ec38",
   "metadata": {},
   "outputs": [],
   "source": [
    "atom_type_dict = dict2embeding(Atom_type_count)\n",
    "bond_type_dict = dict2embeding(Bond_type_count)\n",
    "AA_dict = dict2embeding(AA_dictionary)"
   ]
  },
  {
   "cell_type": "code",
   "execution_count": 16,
   "id": "0ea7d0c2",
   "metadata": {},
   "outputs": [],
   "source": [
    "with open('atom_type_dict.pkl', 'wb') as f:\n",
    "    pickle.dump(atom_type_dict, f)"
   ]
  },
  {
   "cell_type": "code",
   "execution_count": 17,
   "id": "1e48ff94",
   "metadata": {},
   "outputs": [],
   "source": [
    "with open('bond_type_dict.pkl', 'wb') as f:\n",
    "    pickle.dump(bond_type_dict, f)"
   ]
  },
  {
   "cell_type": "code",
   "execution_count": 18,
   "id": "65b5777a",
   "metadata": {},
   "outputs": [],
   "source": [
    "with open('AA_dict.pkl', 'wb') as f:\n",
    "    pickle.dump(AA_dict, f)"
   ]
  }
 ],
 "metadata": {
  "kernelspec": {
   "display_name": "Python 3 (ipykernel)",
   "language": "python",
   "name": "python3"
  },
  "language_info": {
   "codemirror_mode": {
    "name": "ipython",
    "version": 3
   },
   "file_extension": ".py",
   "mimetype": "text/x-python",
   "name": "python",
   "nbconvert_exporter": "python",
   "pygments_lexer": "ipython3",
   "version": "3.11.3"
  }
 },
 "nbformat": 4,
 "nbformat_minor": 5
}
